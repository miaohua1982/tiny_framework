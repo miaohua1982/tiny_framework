{
 "cells": [
  {
   "cell_type": "code",
   "execution_count": 21,
   "metadata": {},
   "outputs": [
    {
     "name": "stdout",
     "output_type": "stream",
     "text": [
      "we have 938 train samples, and 157 test samples\n"
     ]
    }
   ],
   "source": [
    "import torchvision as tv\n",
    "import torchvision.transforms as transforms\n",
    "from torch.utils.data import DataLoader\n",
    "import numpy as np\n",
    "\n",
    "mnist_ds_path = '/home/miaohua/Documents/myfavor/mnist/datasets'\n",
    "# you can change the batch_size, epochs, batch_limited to reach different accuracy\n",
    "batch_size = 64\n",
    "epoches = 15\n",
    "batch_limited = 1000\n",
    "alpha = 0.1\n",
    "classes_num = 10\n",
    "w, h = 28, 28\n",
    "\n",
    "\n",
    "train_ds = tv.datasets.MNIST(root=mnist_ds_path, train=True, transform=transforms.ToTensor())\n",
    "train_dataloader = DataLoader(train_ds, batch_size=batch_size, shuffle=True)  #60000\n",
    "\n",
    "test_ds = tv.datasets.MNIST(root=mnist_ds_path, train=False, transform=transforms.ToTensor())\n",
    "test_dataloader = DataLoader(test_ds, batch_size=batch_size, shuffle=True)    #10000\n",
    "\n",
    "print('we have %d train samples, and %d test samples' % (len(train_dataloader), len(test_dataloader)))"
   ]
  },
  {
   "cell_type": "code",
   "execution_count": 22,
   "metadata": {},
   "outputs": [
    {
     "name": "stdout",
     "output_type": "stream",
     "text": [
      "hidden_size 10816\n"
     ]
    }
   ],
   "source": [
    "# do conv layers\n",
    "kernel_shape = (3,3)\n",
    "conv_channel = 16\n",
    "stride = 1\n",
    "hidden_size = int(((h-kernel_shape[0])/stride+1)*((w-kernel_shape[1])/stride+1)*conv_channel)\n",
    "\n",
    "layer0_w = np.random.normal(0, 0.01, (kernel_shape[0]*kernel_shape[1], conv_channel))\n",
    "layer1_w = np.random.normal(0, 0.01, (hidden_size, classes_num))\n",
    "\n",
    "print('hidden_size', hidden_size)"
   ]
  },
  {
   "cell_type": "code",
   "execution_count": 23,
   "metadata": {},
   "outputs": [],
   "source": [
    "def relu(x):\n",
    "    return np.where(x>0, x, 0)\n",
    "\n",
    "def relu2driv(x):\n",
    "    return np.where(x>0, 1, 0)\n",
    "\n",
    "def dropout(x, dropout_prob):\n",
    "    assert dropout_prob>0 and dropout_prob<=1   # when dropout_prob == 1, all are dropped out; dropout_prob == 0, nothing is dropped out\n",
    "    \n",
    "    ratio = 1.0/dropout_prob\n",
    "    \n",
    "    mask = np.random.uniform(0, 1.0, size=x.shape)\n",
    "    mask = (mask > dropout_prob).astype(np.int32)\n",
    "    \n",
    "    return x*mask*ratio, mask"
   ]
  },
  {
   "cell_type": "code",
   "execution_count": 24,
   "metadata": {},
   "outputs": [],
   "source": [
    "def mse(gt, pred):\n",
    "    num = gt.shape[0]\n",
    "    y = np.zeros((num, classes_num))\n",
    "    y[np.arange(num), gt] = 1\n",
    "    return np.sum((y-pred)**2)\n",
    "\n",
    "def soft_max(pred):\n",
    "    pred_max = pred.max(axis=1, keepdims=True)\n",
    "    mid = np.exp(pred-pred_max).sum(axis=1, keepdims=True)\n",
    "    return np.exp(pred-pred_max)/mid\n",
    "\n",
    "def cross_entropy(gt, pred):\n",
    "    mid = np.exp(pred).sum(axis=1, keepdims=True)\n",
    "    num = pred.shape[0]\n",
    "    return np.mean(np.log(mid)-pred[np.arange(num), gt])"
   ]
  },
  {
   "cell_type": "code",
   "execution_count": 25,
   "metadata": {},
   "outputs": [],
   "source": [
    "def acc(gt, pred):\n",
    "    pred = pred.argmax(axis=1)\n",
    "    return np.mean(gt == pred)"
   ]
  },
  {
   "cell_type": "code",
   "execution_count": 26,
   "metadata": {},
   "outputs": [],
   "source": [
    "def get_cnn_patches(x, kernel_shape):\n",
    "    kernel_height, kernel_width = kernel_shape\n",
    "    n, c, h, w = x.shape\n",
    "    cnn_patches = []\n",
    "    for n_ind in range(n):\n",
    "        for h_ind in range(h-kernel_height+1):\n",
    "            for w_ind in range(w-kernel_width+1):\n",
    "                sub_section = x[n_ind,0,h_ind:h_ind+kernel_height,w_ind:w_ind+kernel_width]\n",
    "                cnn_patches.append(sub_section)\n",
    "    cnn_patches = np.stack(cnn_patches)\n",
    "    \n",
    "    return cnn_patches"
   ]
  },
  {
   "cell_type": "code",
   "execution_count": 27,
   "metadata": {},
   "outputs": [],
   "source": [
    "def forward(x, sample_num, is_training, dropout_prob=0.5):\n",
    "    x = x.reshape(x.shape[0], -1)\n",
    "    mid_pred = x.dot(layer0_w)\n",
    "    mid_pred = mid_pred.reshape(sample_num, -1)\n",
    "    mid_pred = relu(mid_pred)\n",
    "    \n",
    "    if is_training and dropout_prob>0:\n",
    "        mask_pred, mask = dropout(mid_pred, dropout_prob)\n",
    "    else:\n",
    "        mask_pred = mid_pred\n",
    "        mask = None\n",
    "\n",
    "    pred = mask_pred.dot(layer1_w)\n",
    "    \n",
    "    return pred, mid_pred, mask\n",
    "\n",
    "def backward(gt, pred, mid_pred, mask, x):\n",
    "    x = x.reshape(x.shape[0], -1)\n",
    "    num = gt.shape[0]\n",
    "    y = np.zeros((num, classes_num))\n",
    "    y[np.arange(num), gt] = 1\n",
    "    \n",
    "    pred_soft_max = soft_max(pred)\n",
    "    delta = (pred_soft_max-y)/num\n",
    "    layer1_w_step = mid_pred.T.dot(delta)\n",
    "    \n",
    "    w_delta = delta.dot(layer1_w.T)*relu2driv(mid_pred)\n",
    "    if mask is not None:\n",
    "        w_delta = w_delta*mask\n",
    "        \n",
    "    w_delta = w_delta.reshape(-1, conv_channel)\n",
    "    layer0_w_step = x.T.dot(w_delta)\n",
    "    \n",
    "    return layer0_w_step, layer1_w_step\n",
    "\n",
    "def step(alpha, layer0_w_step, layer1_w_step):\n",
    "    global layer0_w, layer1_w\n",
    "    layer0_w = layer0_w - alpha * layer0_w_step\n",
    "    layer1_w = layer1_w - alpha * layer1_w_step\n",
    "    \n",
    "def test():\n",
    "    loss = 0\n",
    "    accuracy = 0\n",
    "    for x,y in test_dataloader:\n",
    "        x = x.cpu().numpy()\n",
    "        y = y.cpu().numpy()\n",
    "        \n",
    "        cnn_patches = get_cnn_patches(x, kernel_shape)\n",
    "        pred, _, _ = forward(cnn_patches, y.shape[0], False)\n",
    "        loss += cross_entropy(y, pred)\n",
    "        accuracy += acc(y, pred)\n",
    "    \n",
    "    return loss/len(test_dataloader), accuracy/len(test_dataloader)"
   ]
  },
  {
   "cell_type": "code",
   "execution_count": 28,
   "metadata": {},
   "outputs": [
    {
     "name": "stdout",
     "output_type": "stream",
     "text": [
      "in epoch 0, train loss: 0.4127, train acc: 0.8775, test loss: 0.2926, test acc: 0.9156, cost 79 seconds\n",
      "in epoch 1, train loss: 0.2123, train acc: 0.9408, test loss: 0.1419, test acc: 0.9604, cost 79 seconds\n",
      "in epoch 2, train loss: 0.1237, train acc: 0.9662, test loss: 0.0952, test acc: 0.9719, cost 78 seconds\n",
      "in epoch 3, train loss: 0.0894, train acc: 0.9753, test loss: 0.0853, test acc: 0.9760, cost 77 seconds\n",
      "in epoch 4, train loss: 0.0724, train acc: 0.9793, test loss: 0.0717, test acc: 0.9772, cost 79 seconds\n",
      "in epoch 5, train loss: 0.0620, train acc: 0.9822, test loss: 0.0669, test acc: 0.9785, cost 77 seconds\n",
      "in epoch 6, train loss: 0.0543, train acc: 0.9842, test loss: 0.0658, test acc: 0.9775, cost 77 seconds\n",
      "in epoch 7, train loss: 0.0487, train acc: 0.9853, test loss: 0.0628, test acc: 0.9800, cost 77 seconds\n",
      "in epoch 8, train loss: 0.0442, train acc: 0.9866, test loss: 0.0594, test acc: 0.9814, cost 76 seconds\n",
      "in epoch 9, train loss: 0.0403, train acc: 0.9877, test loss: 0.0637, test acc: 0.9803, cost 78 seconds\n",
      "in epoch 10, train loss: 0.0365, train acc: 0.9891, test loss: 0.0672, test acc: 0.9796, cost 77 seconds\n",
      "in epoch 11, train loss: 0.0339, train acc: 0.9904, test loss: 0.0642, test acc: 0.9792, cost 81 seconds\n",
      "in epoch 12, train loss: 0.0318, train acc: 0.9905, test loss: 0.0632, test acc: 0.9806, cost 77 seconds\n",
      "in epoch 13, train loss: 0.0294, train acc: 0.9913, test loss: 0.0661, test acc: 0.9799, cost 76 seconds\n",
      "in epoch 14, train loss: 0.0273, train acc: 0.9921, test loss: 0.0635, test acc: 0.9810, cost 76 seconds\n"
     ]
    }
   ],
   "source": [
    "import time\n",
    "\n",
    "dropout_prob = 0.0\n",
    "for epoch in range(epoches):\n",
    "    loss = 0\n",
    "    accuracy = 0\n",
    "    start = time.time()\n",
    "    for idx, (x,y) in enumerate(train_dataloader):\n",
    "        x = x.cpu().numpy()\n",
    "        y = y.cpu().numpy()\n",
    "        \n",
    "        cnn_patches = get_cnn_patches(x, kernel_shape)\n",
    "        pred, mid_pred, mask = forward(cnn_patches, y.shape[0], True, dropout_prob)\n",
    "        loss += cross_entropy(y, pred)\n",
    "        accuracy += acc(y, pred)\n",
    "        \n",
    "        layer0_w_step, layer1_w_step = backward(y, pred, mid_pred, mask, cnn_patches)\n",
    "        step(alpha, layer0_w_step, layer1_w_step)\n",
    "    \n",
    "    # do test\n",
    "    test_loss, test_acc = test()\n",
    "    end = time.time()\n",
    "    print('in epoch %d, train loss: %.4f, train acc: %.4f, test loss: %.4f, test acc: %.4f, cost %d seconds' % \\\n",
    "          (epoch, loss/(idx+1), accuracy/(idx+1), test_loss, test_acc, end-start))"
   ]
  },
  {
   "cell_type": "code",
   "execution_count": 30,
   "metadata": {},
   "outputs": [],
   "source": [
    "import torch as t\n",
    "from torch import nn\n",
    "from torch.nn import functional as F\n",
    "\n",
    "# a pytorch equal example\n",
    "class OneCnnClassifier(nn.Module):\n",
    "    def __init__(self, classes_num, input_size, channels=16):\n",
    "        super(OneCnnClassifier, self).__init__()\n",
    "        \n",
    "        self.conv1 = nn.Conv2d(1, channels, kernel_size=(3,3), stride=1)\n",
    "        self.classifier = nn.Linear(channels*(input_size[0]-3+1)*(input_size[1]-3+1), classes_num)\n",
    "    \n",
    "    def forward(self, x):\n",
    "        x = F.relu(self.conv1(x))\n",
    "        x = x.view(x.shape[0], -1)\n",
    "        pred = self.classifier(x)\n",
    "        \n",
    "        return pred"
   ]
  },
  {
   "cell_type": "code",
   "execution_count": 31,
   "metadata": {},
   "outputs": [],
   "source": [
    "def calc_acc(pred, y):\n",
    "    p = pred.argmax(dim=1)\n",
    "    return (p == y).float().mean()\n",
    "\n",
    "def test(classifier, criterion):\n",
    "    classifier.eval()\n",
    "    \n",
    "    loss = 0.0\n",
    "    acc = 0.0\n",
    "    iter_num = 0\n",
    "    for (x, y) in test_dataloader:\n",
    "        pred = classifier(x)\n",
    "        \n",
    "        cur_loss = criterion(pred, y)\n",
    "        cur_acc = calc_acc(pred, y)\n",
    "\n",
    "        loss += cur_loss.item()\n",
    "        acc += cur_acc.item()\n",
    "        \n",
    "        iter_num += 1\n",
    "    \n",
    "    classifier.train()\n",
    "    return loss/iter_num, acc/iter_num"
   ]
  },
  {
   "cell_type": "code",
   "execution_count": 33,
   "metadata": {},
   "outputs": [
    {
     "name": "stdout",
     "output_type": "stream",
     "text": [
      "in epoch 0, train loss: 0.2952, train acc: 0.9132, test loss: 0.1433, test acc: 0.9595, cost 11 seconds\n",
      "in epoch 1, train loss: 0.1174, train acc: 0.9669, test loss: 0.0896, test acc: 0.9734, cost 9 seconds\n",
      "in epoch 2, train loss: 0.0829, train acc: 0.9761, test loss: 0.0744, test acc: 0.9767, cost 9 seconds\n",
      "in epoch 3, train loss: 0.0668, train acc: 0.9812, test loss: 0.0702, test acc: 0.9778, cost 9 seconds\n",
      "in epoch 4, train loss: 0.0575, train acc: 0.9832, test loss: 0.0672, test acc: 0.9779, cost 9 seconds\n",
      "in epoch 5, train loss: 0.0500, train acc: 0.9856, test loss: 0.0691, test acc: 0.9769, cost 11 seconds\n",
      "in epoch 6, train loss: 0.0455, train acc: 0.9864, test loss: 0.0651, test acc: 0.9778, cost 11 seconds\n",
      "in epoch 7, train loss: 0.0403, train acc: 0.9882, test loss: 0.0673, test acc: 0.9790, cost 10 seconds\n",
      "in epoch 8, train loss: 0.0370, train acc: 0.9890, test loss: 0.0595, test acc: 0.9803, cost 11 seconds\n",
      "in epoch 9, train loss: 0.0340, train acc: 0.9896, test loss: 0.0663, test acc: 0.9774, cost 10 seconds\n",
      "in epoch 10, train loss: 0.0310, train acc: 0.9907, test loss: 0.0606, test acc: 0.9820, cost 10 seconds\n",
      "in epoch 11, train loss: 0.0286, train acc: 0.9917, test loss: 0.0626, test acc: 0.9797, cost 9 seconds\n",
      "in epoch 12, train loss: 0.0257, train acc: 0.9920, test loss: 0.0632, test acc: 0.9803, cost 9 seconds\n",
      "in epoch 13, train loss: 0.0235, train acc: 0.9936, test loss: 0.0676, test acc: 0.9794, cost 9 seconds\n",
      "in epoch 14, train loss: 0.0223, train acc: 0.9936, test loss: 0.0651, test acc: 0.9799, cost 9 seconds\n"
     ]
    }
   ],
   "source": [
    "import time\n",
    "\n",
    "classifier = OneCnnClassifier(classes_num, (h,w))\n",
    "criterion = nn.CrossEntropyLoss()\n",
    "sgd = t.optim.SGD(classifier.parameters(), lr=alpha) #, momentum=0.9)\n",
    "\n",
    "for epoch in range(epoches):\n",
    "    loss = 0.0\n",
    "    acc = 0.0\n",
    "    iter_num = 0\n",
    "    start = time.time()\n",
    "    for idx, (x,y) in enumerate(train_dataloader):\n",
    "        pred = classifier(x)\n",
    "        \n",
    "        sgd.zero_grad()\n",
    "        cur_loss = criterion(pred, y)\n",
    "        cur_acc = calc_acc(pred, y)\n",
    "        cur_loss.backward()\n",
    "        sgd.step()\n",
    "        \n",
    "        loss += cur_loss.item()\n",
    "        acc += cur_acc.item()\n",
    "        \n",
    "        iter_num += 1 \n",
    "    \n",
    "    test_loss, test_acc = test(classifier, criterion)\n",
    "    end = time.time()\n",
    "    print('in epoch %d, train loss: %.4f, train acc: %.4f, test loss: %.4f, test acc: %.4f, cost %d seconds' % \\\n",
    "          (epoch, loss/iter_num, acc/iter_num, test_loss, test_acc, end-start))"
   ]
  },
  {
   "cell_type": "code",
   "execution_count": 29,
   "metadata": {},
   "outputs": [],
   "source": [
    "#可以看到我们自己的实现和pytorch实现在精度上相差无几，但是速度上差太多, cnn的计算并无差别，主要为函数get_cnn_patches太慢所致\n",
    "#下面的思路把一次cnn layer变成一次大的矩阵相乘\n",
    "alpha = 0.3\n",
    "kernel_shape = (3,3)\n",
    "conv_channel = 16\n",
    "stride = 1\n",
    "hidden_size = int(((h-kernel_shape[0])/stride+1)*((w-kernel_shape[1])/stride+1)*conv_channel)\n",
    "\n",
    "kernel = np.random.normal(0, 0.01, (conv_channel, kernel_shape[0], kernel_shape[1]))\n",
    "layer0_w = np.zeros((conv_channel, int(((h-kernel_shape[0])/stride+1)*((w-kernel_shape[1])/stride+1)),h*w))\n",
    "layer1_w = np.random.normal(0, 0.01, (hidden_size, classes_num))\n",
    "\n",
    "for k_ind in range(conv_channel):\n",
    "    s = 0\n",
    "    for i in range(layer0_w.shape[1]):\n",
    "        for j in range(kernel.shape[1]):\n",
    "            if s+j*w+kernel.shape[2]>=w:\n",
    "                break\n",
    "            layer0_w[k_ind,i,s+j*w:s+j*w+kernel.shape[2]] = kernel[k_ind,j,:] \n",
    "        s += stride \n",
    "layer0_w = layer0_w.transpose(0, 2, 1).reshape(h*w, -1)\n",
    "layer0_mask = np.where(layer0_w!=0,1,0)"
   ]
  },
  {
   "cell_type": "code",
   "execution_count": 30,
   "metadata": {},
   "outputs": [
    {
     "data": {
      "text/plain": [
       "(784, 10816)"
      ]
     },
     "execution_count": 30,
     "metadata": {},
     "output_type": "execute_result"
    }
   ],
   "source": [
    "layer0_w.shape"
   ]
  },
  {
   "cell_type": "code",
   "execution_count": 31,
   "metadata": {},
   "outputs": [],
   "source": [
    "def forward(x, sample_num, is_training, dropout_prob=0.5):\n",
    "    x = x.reshape(x.shape[0], -1)\n",
    "    mid_pred = relu(x.dot(layer0_w))\n",
    "        \n",
    "    if is_training and dropout_prob>0:\n",
    "        mask_pred, mask = dropout(mid_pred, dropout_prob)\n",
    "    else:\n",
    "        mask_pred = mid_pred\n",
    "        mask = None\n",
    "\n",
    "    pred = mask_pred.dot(layer1_w)\n",
    "    \n",
    "    return pred, mid_pred, mask\n",
    "\n",
    "def backward(gt, pred, mid_pred, mask, x):\n",
    "    x = x.reshape(x.shape[0], -1)\n",
    "    num = gt.shape[0]\n",
    "    y = np.zeros((num, classes_num))\n",
    "    y[np.arange(num), gt] = 1\n",
    "    \n",
    "    pred_soft_max = soft_max(pred)\n",
    "    delta = (pred_soft_max-y)/num\n",
    "    layer1_w_step = mid_pred.T.dot(delta)\n",
    "    \n",
    "    w_delta = delta.dot(layer1_w.T)*relu2driv(mid_pred)\n",
    "    if mask is not None:\n",
    "        w_delta = w_delta*mask\n",
    "        \n",
    "    layer0_w_step = x.T.dot(w_delta)*layer0_mask\n",
    "    \n",
    "    return layer0_w_step, layer1_w_step\n",
    "\n",
    "def step(alpha, layer0_w_step, layer1_w_step):\n",
    "    global layer0_w, layer1_w\n",
    "    layer0_w = layer0_w - alpha * layer0_w_step\n",
    "    layer1_w = layer1_w - alpha * layer1_w_step\n",
    "    \n",
    "def test():\n",
    "    loss = 0\n",
    "    accuracy = 0\n",
    "    for x,y in test_dataloader:\n",
    "        x = x.cpu().numpy()\n",
    "        y = y.cpu().numpy()\n",
    "        \n",
    "        pred, _, _ = forward(x, y.shape[0], False)\n",
    "        loss += cross_entropy(y, pred)\n",
    "        accuracy += acc(y, pred)\n",
    "    \n",
    "    return loss/len(test_dataloader), accuracy/len(test_dataloader)"
   ]
  },
  {
   "cell_type": "code",
   "execution_count": 32,
   "metadata": {},
   "outputs": [
    {
     "name": "stdout",
     "output_type": "stream",
     "text": [
      "in epoch 0, train loss: 1.6161, train acc: 0.4452, test loss: 1.3021, test acc: 0.5509, cost 71 seconds\n",
      "in epoch 1, train loss: 1.3012, train acc: 0.5512, test loss: 1.2520, test acc: 0.5648, cost 71 seconds\n",
      "in epoch 2, train loss: 1.2578, train acc: 0.5659, test loss: 1.2202, test acc: 0.5755, cost 71 seconds\n",
      "in epoch 3, train loss: 1.2350, train acc: 0.5743, test loss: 1.2025, test acc: 0.5846, cost 73 seconds\n",
      "in epoch 4, train loss: 1.2168, train acc: 0.5802, test loss: 1.1875, test acc: 0.5893, cost 77 seconds\n",
      "in epoch 5, train loss: 1.2053, train acc: 0.5833, test loss: 1.1883, test acc: 0.5911, cost 80 seconds\n",
      "in epoch 6, train loss: 1.1953, train acc: 0.5861, test loss: 1.1830, test acc: 0.5931, cost 76 seconds\n",
      "in epoch 7, train loss: 1.1880, train acc: 0.5894, test loss: 1.1635, test acc: 0.6037, cost 78 seconds\n",
      "in epoch 8, train loss: 1.1802, train acc: 0.5903, test loss: 1.1685, test acc: 0.5968, cost 78 seconds\n"
     ]
    },
    {
     "ename": "KeyboardInterrupt",
     "evalue": "",
     "output_type": "error",
     "traceback": [
      "\u001b[0;31m---------------------------------------------------------------------------\u001b[0m",
      "\u001b[0;31mKeyboardInterrupt\u001b[0m                         Traceback (most recent call last)",
      "\u001b[0;32m<ipython-input-32-c8dfbcb02f92>\u001b[0m in \u001b[0;36m<module>\u001b[0;34m\u001b[0m\n\u001b[1;32m     14\u001b[0m \u001b[0;34m\u001b[0m\u001b[0m\n\u001b[1;32m     15\u001b[0m         \u001b[0mlayer0_w_step\u001b[0m\u001b[0;34m,\u001b[0m \u001b[0mlayer1_w_step\u001b[0m \u001b[0;34m=\u001b[0m \u001b[0mbackward\u001b[0m\u001b[0;34m(\u001b[0m\u001b[0my\u001b[0m\u001b[0;34m,\u001b[0m \u001b[0mpred\u001b[0m\u001b[0;34m,\u001b[0m \u001b[0mmid_pred\u001b[0m\u001b[0;34m,\u001b[0m \u001b[0mmask\u001b[0m\u001b[0;34m,\u001b[0m \u001b[0mx\u001b[0m\u001b[0;34m)\u001b[0m\u001b[0;34m\u001b[0m\u001b[0;34m\u001b[0m\u001b[0m\n\u001b[0;32m---> 16\u001b[0;31m         \u001b[0mstep\u001b[0m\u001b[0;34m(\u001b[0m\u001b[0malpha\u001b[0m\u001b[0;34m,\u001b[0m \u001b[0mlayer0_w_step\u001b[0m\u001b[0;34m,\u001b[0m \u001b[0mlayer1_w_step\u001b[0m\u001b[0;34m)\u001b[0m\u001b[0;34m\u001b[0m\u001b[0;34m\u001b[0m\u001b[0m\n\u001b[0m\u001b[1;32m     17\u001b[0m \u001b[0;34m\u001b[0m\u001b[0m\n\u001b[1;32m     18\u001b[0m     \u001b[0;31m# do test\u001b[0m\u001b[0;34m\u001b[0m\u001b[0;34m\u001b[0m\u001b[0;34m\u001b[0m\u001b[0m\n",
      "\u001b[0;32m<ipython-input-31-b351a605258e>\u001b[0m in \u001b[0;36mstep\u001b[0;34m(alpha, layer0_w_step, layer1_w_step)\u001b[0m\n\u001b[1;32m     33\u001b[0m \u001b[0;32mdef\u001b[0m \u001b[0mstep\u001b[0m\u001b[0;34m(\u001b[0m\u001b[0malpha\u001b[0m\u001b[0;34m,\u001b[0m \u001b[0mlayer0_w_step\u001b[0m\u001b[0;34m,\u001b[0m \u001b[0mlayer1_w_step\u001b[0m\u001b[0;34m)\u001b[0m\u001b[0;34m:\u001b[0m\u001b[0;34m\u001b[0m\u001b[0;34m\u001b[0m\u001b[0m\n\u001b[1;32m     34\u001b[0m     \u001b[0;32mglobal\u001b[0m \u001b[0mlayer0_w\u001b[0m\u001b[0;34m,\u001b[0m \u001b[0mlayer1_w\u001b[0m\u001b[0;34m\u001b[0m\u001b[0;34m\u001b[0m\u001b[0m\n\u001b[0;32m---> 35\u001b[0;31m     \u001b[0mlayer0_w\u001b[0m \u001b[0;34m=\u001b[0m \u001b[0mlayer0_w\u001b[0m \u001b[0;34m-\u001b[0m \u001b[0malpha\u001b[0m \u001b[0;34m*\u001b[0m \u001b[0mlayer0_w_step\u001b[0m\u001b[0;34m\u001b[0m\u001b[0;34m\u001b[0m\u001b[0m\n\u001b[0m\u001b[1;32m     36\u001b[0m     \u001b[0mlayer1_w\u001b[0m \u001b[0;34m=\u001b[0m \u001b[0mlayer1_w\u001b[0m \u001b[0;34m-\u001b[0m \u001b[0malpha\u001b[0m \u001b[0;34m*\u001b[0m \u001b[0mlayer1_w_step\u001b[0m\u001b[0;34m\u001b[0m\u001b[0;34m\u001b[0m\u001b[0m\n\u001b[1;32m     37\u001b[0m \u001b[0;34m\u001b[0m\u001b[0m\n",
      "\u001b[0;31mKeyboardInterrupt\u001b[0m: "
     ]
    }
   ],
   "source": [
    "import time\n",
    "\n",
    "for epoch in range(epoches):\n",
    "    loss = 0\n",
    "    accuracy = 0\n",
    "    start = time.time()\n",
    "    for idx, (x,y) in enumerate(train_dataloader):\n",
    "        x = x.cpu().numpy()\n",
    "        y = y.cpu().numpy()\n",
    "        \n",
    "        pred, mid_pred, mask = forward(x, y.shape[0], False)\n",
    "        loss += cross_entropy(y, pred)\n",
    "        accuracy += acc(y, pred)\n",
    "        \n",
    "        layer0_w_step, layer1_w_step = backward(y, pred, mid_pred, mask, x)\n",
    "        step(alpha, layer0_w_step, layer1_w_step)\n",
    "    \n",
    "    # do test\n",
    "    test_loss, test_acc = test()\n",
    "    end = time.time()\n",
    "    print('in epoch %d, train loss: %.4f, train acc: %.4f, test loss: %.4f, test acc: %.4f, cost %d seconds' % \\\n",
    "          (epoch, loss/(idx+1), accuracy/(idx+1), test_loss, test_acc, end-start))"
   ]
  },
  {
   "cell_type": "code",
   "execution_count": 58,
   "metadata": {},
   "outputs": [
    {
     "data": {
      "text/plain": [
       "(64, 10)"
      ]
     },
     "execution_count": 58,
     "metadata": {},
     "output_type": "execute_result"
    }
   ],
   "source": [
    "pred.shape"
   ]
  },
  {
   "cell_type": "code",
   "execution_count": 51,
   "metadata": {},
   "outputs": [
    {
     "data": {
      "image/png": "[encoded data removed]",
      "text/plain": [
       "<Figure size 432x288 with 1 Axes>"
      ]
     },
     "metadata": {
      "needs_background": "light"
     },
     "output_type": "display_data"
    }
   ],
   "source": [
    "import numpy as np\n",
    "from matplotlib import pyplot as plt\n",
    "\n",
    "im = x[0,0,:,:]\n",
    "fig = plt.figure()\n",
    "plotwindow = fig.add_subplot(111)\n",
    "plt.axis('off')\n",
    "plt.imshow(im, cmap='gray')\n",
    "plt.show()"
   ]
  },
  {
   "cell_type": "code",
   "execution_count": null,
   "metadata": {},
   "outputs": [],
   "source": []
  }
 ],
 "metadata": {
  "kernelspec": {
   "display_name": "Python 3",
   "language": "python",
   "name": "python3"
  },
  "language_info": {
   "codemirror_mode": {
    "name": "ipython",
    "version": 3
   },
   "file_extension": ".py",
   "mimetype": "text/x-python",
   "name": "python",
   "nbconvert_exporter": "python",
   "pygments_lexer": "ipython3",
   "version": "3.7.3"
  }
 },
 "nbformat": 4,
 "nbformat_minor": 4
}
