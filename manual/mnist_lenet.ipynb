{
 "cells": [
  {
   "cell_type": "code",
   "execution_count": 2,
   "metadata": {},
   "outputs": [
    {
     "name": "stdout",
     "output_type": "stream",
     "text": [
      "we have 1875 train samples, and 313 test samples\n"
     ]
    }
   ],
   "source": [
    "import torchvision as tv\n",
    "import torchvision.transforms as transforms\n",
    "from torch.utils.data import DataLoader\n",
    "import torch as t\n",
    "from torch import nn\n",
    "from torch.nn import functional as F\n",
    "\n",
    "mnist_ds_path = '../datasets'\n",
    "# you can change the batch_size, epochs, batch_limited to reach different accuracy\n",
    "batch_size = 32\n",
    "epochs = 35\n",
    "batch_limited = 1000\n",
    "alpha = 0.001\n",
    "classes_num = 10\n",
    "\n",
    "\n",
    "train_ds = tv.datasets.MNIST(root=mnist_ds_path, train=True, transform=transforms.ToTensor())\n",
    "train_dataloader = DataLoader(train_ds, batch_size=batch_size, shuffle=True)  #60000\n",
    "\n",
    "test_ds = tv.datasets.MNIST(root=mnist_ds_path, train=False, transform=transforms.ToTensor())\n",
    "test_dataloader = DataLoader(test_ds, batch_size=batch_size, shuffle=True)    #10000\n",
    "\n",
    "print('we have %d train samples, and %d test samples' % (len(train_dataloader), len(test_dataloader)))"
   ]
  },
  {
   "cell_type": "markdown",
   "metadata": {},
   "source": [
    "# This is an example for lenet(a cnn typical network structure) which is all constructed by torch"
   ]
  },
  {
   "cell_type": "code",
   "execution_count": 3,
   "metadata": {},
   "outputs": [],
   "source": [
    "class LeNet(nn.Module):\n",
    "    def __init__(self, classes_num):\n",
    "        super(LeNet, self).__init__()\n",
    "        \n",
    "        self.conv1 = nn.Conv2d(1, 8, kernel_size=(3,3), stride=1, padding=1)\n",
    "        self.max_pool1 = nn.MaxPool2d((2,2))\n",
    "        self.conv2 = nn.Conv2d(8, 16, kernel_size=(3,3), stride=1, padding=1)\n",
    "        self.max_pool2 = nn.MaxPool2d((2,2))\n",
    "        self.linear1 = nn.Linear(16*7*7, 512)\n",
    "        self.linear2 = nn.Linear(512, 256)\n",
    "        self.classifier = nn.Linear(256, classes_num)\n",
    "    \n",
    "    def forward(self, x):\n",
    "        x = F.relu(self.conv1(x))\n",
    "        x = self.max_pool1(x)\n",
    "        x = F.relu(self.conv2(x))\n",
    "        x = self.max_pool2(x)\n",
    "        \n",
    "        x = x.view(x.shape[0], -1)\n",
    "        \n",
    "        x = F.relu(self.linear1(x))\n",
    "        x = F.relu(self.linear2(x))\n",
    "        pred = self.classifier(x)\n",
    "        \n",
    "        return pred"
   ]
  },
  {
   "cell_type": "code",
   "execution_count": 4,
   "metadata": {},
   "outputs": [],
   "source": [
    "def calc_accu(pred, gt):\n",
    "    final = pred.argmax(dim=1)\n",
    "    return (final == gt).float().mean()"
   ]
  },
  {
   "cell_type": "code",
   "execution_count": 5,
   "metadata": {},
   "outputs": [],
   "source": [
    "def test(model, criterion):\n",
    "    model.eval()\n",
    "    \n",
    "    loss = 0\n",
    "    accuracy = 0\n",
    "    round_num = 0\n",
    "    for (x,y) in test_dataloader:\n",
    "        pred = model(x)\n",
    "        \n",
    "        cur_loss = criterion(pred, y)\n",
    "        cur_accuracy = calc_accu(pred, y)\n",
    "        \n",
    "        loss += cur_loss.item()\n",
    "        accuracy += cur_accuracy.item()\n",
    "        \n",
    "        round_num += 1\n",
    "        \n",
    "    model.train()\n",
    "    \n",
    "    return loss/round_num, accuracy/round_num"
   ]
  },
  {
   "cell_type": "code",
   "execution_count": 6,
   "metadata": {},
   "outputs": [],
   "source": [
    "lenet = LeNet(classes_num)\n",
    "# loss function\n",
    "criterion = nn.CrossEntropyLoss()\n",
    "# no momentum means poor performance(may drop 3 percent), momentum=0.9 is good enough\n",
    "# the best test precision is 0.9801\n",
    "sgd = t.optim.SGD(lenet.parameters(), lr=alpha, momentum=0.9)"
   ]
  },
  {
   "cell_type": "code",
   "execution_count": 7,
   "metadata": {},
   "outputs": [
    {
     "name": "stdout",
     "output_type": "stream",
     "text": [
      "in epoch 0, train loss: 1.6929, train acc: 0.4716, test loss: 0.5493, test acc: 0.8175\n",
      "in epoch 1, train loss: 0.3602, train acc: 0.8884, test loss: 0.2802, test acc: 0.9165\n",
      "in epoch 2, train loss: 0.2468, train acc: 0.9218, test loss: 0.1936, test acc: 0.9392\n",
      "in epoch 3, train loss: 0.1836, train acc: 0.9443, test loss: 0.1557, test acc: 0.9515\n",
      "in epoch 4, train loss: 0.1479, train acc: 0.9545, test loss: 0.1568, test acc: 0.9481\n",
      "in epoch 5, train loss: 0.1206, train acc: 0.9614, test loss: 0.0995, test acc: 0.9686\n",
      "in epoch 6, train loss: 0.1048, train acc: 0.9667, test loss: 0.0994, test acc: 0.9669\n",
      "in epoch 7, train loss: 0.1002, train acc: 0.9684, test loss: 0.0927, test acc: 0.9705\n",
      "in epoch 8, train loss: 0.0853, train acc: 0.9738, test loss: 0.1045, test acc: 0.9675\n",
      "in epoch 9, train loss: 0.0784, train acc: 0.9742, test loss: 0.0700, test acc: 0.9768\n",
      "in epoch 10, train loss: 0.0756, train acc: 0.9768, test loss: 0.0648, test acc: 0.9779\n",
      "in epoch 11, train loss: 0.0676, train acc: 0.9784, test loss: 0.0704, test acc: 0.9767\n",
      "in epoch 12, train loss: 0.0612, train acc: 0.9804, test loss: 0.0769, test acc: 0.9739\n",
      "in epoch 13, train loss: 0.0601, train acc: 0.9812, test loss: 0.0647, test acc: 0.9770\n",
      "in epoch 14, train loss: 0.0594, train acc: 0.9812, test loss: 0.0518, test acc: 0.9823\n",
      "in epoch 15, train loss: 0.0535, train acc: 0.9832, test loss: 0.0533, test acc: 0.9824\n",
      "in epoch 16, train loss: 0.0490, train acc: 0.9846, test loss: 0.0535, test acc: 0.9824\n",
      "in epoch 17, train loss: 0.0471, train acc: 0.9851, test loss: 0.0548, test acc: 0.9819\n",
      "in epoch 18, train loss: 0.0454, train acc: 0.9862, test loss: 0.0624, test acc: 0.9798\n",
      "in epoch 19, train loss: 0.0420, train acc: 0.9872, test loss: 0.0445, test acc: 0.9845\n",
      "in epoch 20, train loss: 0.0408, train acc: 0.9878, test loss: 0.0505, test acc: 0.9827\n",
      "in epoch 21, train loss: 0.0383, train acc: 0.9878, test loss: 0.0475, test acc: 0.9839\n",
      "in epoch 22, train loss: 0.0363, train acc: 0.9886, test loss: 0.0463, test acc: 0.9844\n",
      "in epoch 23, train loss: 0.0362, train acc: 0.9884, test loss: 0.0419, test acc: 0.9853\n",
      "in epoch 24, train loss: 0.0347, train acc: 0.9891, test loss: 0.0393, test acc: 0.9876\n",
      "in epoch 25, train loss: 0.0339, train acc: 0.9895, test loss: 0.0453, test acc: 0.9842\n",
      "in epoch 26, train loss: 0.0311, train acc: 0.9900, test loss: 0.0522, test acc: 0.9840\n",
      "in epoch 27, train loss: 0.0307, train acc: 0.9901, test loss: 0.0404, test acc: 0.9847\n",
      "in epoch 28, train loss: 0.0276, train acc: 0.9911, test loss: 0.0444, test acc: 0.9855\n",
      "in epoch 29, train loss: 0.0285, train acc: 0.9907, test loss: 0.0485, test acc: 0.9849\n",
      "in epoch 30, train loss: 0.0250, train acc: 0.9926, test loss: 0.0432, test acc: 0.9855\n",
      "in epoch 31, train loss: 0.0242, train acc: 0.9925, test loss: 0.0385, test acc: 0.9866\n",
      "in epoch 32, train loss: 0.0231, train acc: 0.9933, test loss: 0.0387, test acc: 0.9877\n",
      "in epoch 33, train loss: 0.0233, train acc: 0.9927, test loss: 0.0420, test acc: 0.9864\n",
      "in epoch 34, train loss: 0.0201, train acc: 0.9939, test loss: 0.0383, test acc: 0.9874\n"
     ]
    }
   ],
   "source": [
    "for epoch in range(epochs):\n",
    "    loss = 0\n",
    "    accuracy = 0\n",
    "    round_num = 0\n",
    "    for idx, (x,y) in enumerate(train_dataloader):\n",
    "        pred = lenet(x)\n",
    "        \n",
    "        sgd.zero_grad()\n",
    "        \n",
    "        cur_loss = criterion(pred, y)\n",
    "        cur_accuracy = calc_accu(pred, y)\n",
    "        \n",
    "        cur_loss.backward()\n",
    "        sgd.step()\n",
    "        \n",
    "        loss += cur_loss.item()\n",
    "        accuracy += cur_accuracy.item()\n",
    "        \n",
    "        round_num += 1\n",
    "        \n",
    "        if round_num == batch_limited:\n",
    "            break\n",
    "    \n",
    "    # do test\n",
    "    test_loss, test_acc = test(lenet, criterion)\n",
    "    print('in epoch %d, train loss: %.4f, train acc: %.4f, test loss: %.4f, test acc: %.4f' % \\\n",
    "          (epoch, loss/round_num, accuracy/round_num, test_loss, test_acc))\n",
    "    \n",
    "        "
   ]
  },
  {
   "cell_type": "code",
   "execution_count": null,
   "metadata": {},
   "outputs": [],
   "source": []
  }
 ],
 "metadata": {
  "kernelspec": {
   "display_name": "Python 3.7.3 64-bit ('venv': venv)",
   "name": "ddea0ac9-f52a-4cac-bee8-4b6d21a58225"
  },
  "language_info": {
   "codemirror_mode": {
    "name": "ipython",
    "version": 3
   },
   "file_extension": ".py",
   "mimetype": "text/x-python",
   "name": "python",
   "nbconvert_exporter": "python",
   "pygments_lexer": "ipython3",
   "version": "3.7.3"
  }
 },
 "nbformat": 4,
 "nbformat_minor": 4
}